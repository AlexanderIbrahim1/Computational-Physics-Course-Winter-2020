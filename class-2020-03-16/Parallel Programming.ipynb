{
 "cells": [
  {
   "cell_type": "code",
   "execution_count": 1,
   "metadata": {},
   "outputs": [
    {
     "name": "stdout",
     "output_type": "stream",
     "text": [
      "Julia Version 1.3.1\n",
      "Commit 2d5741174c* (2019-12-30 21:36 UTC)\n",
      "Platform Info:\n",
      "  OS: Linux (x86_64-linux-gnu)\n",
      "  CPU: Intel(R) Xeon(R) Silver 4114 CPU @ 2.20GHz\n",
      "  WORD_SIZE: 64\n",
      "  LIBM: libopenlibm\n",
      "  LLVM: libLLVM-6.0.1 (ORCJIT, skylake)\n"
     ]
    }
   ],
   "source": [
    "versioninfo()"
   ]
  },
  {
   "cell_type": "code",
   "execution_count": 2,
   "metadata": {},
   "outputs": [],
   "source": [
    "using Distributed"
   ]
  },
  {
   "cell_type": "markdown",
   "metadata": {},
   "source": [
    "# Computational Physics\n",
    "## Parallel Programming\n",
    "### Why?\n",
    "\n",
    "1. Make things fast (not today)\n",
    "2. Solver larger problems\n",
    "\n",
    "### Terminology\n",
    "\n",
    "- \"Supercomputer\": many nodes (10,000)\n",
    "- - \"Compute node\": a workstation, with a fast network\n",
    "- - - \"Memory\" (e.g. 200 GByte)\n",
    "- - - \"Cores\" (e.g. 40 cores)\n",
    "\n",
    "\"Multi-threading\" (easy): using one node\n",
    "- one single data structure\n",
    "- many \"threads\" (\"workers\") working simultaneously\n",
    "\n",
    "\"Distributed computing\" (difficult): combining many nodes\n",
    "- break data structures into pieces\n",
    "- many \"processes\" (\"workers\") working simultaneously\n",
    "\n",
    "Example: Solve linear system"
   ]
  },
  {
   "cell_type": "markdown",
   "metadata": {},
   "source": [
    "### State of the art\n",
    "\n",
    "Fortran, C, C++: multi-threading is much easier than distributed computing\n",
    "\n",
    "!$omp parallel do\n",
    "do i = 1, 1000000\n",
    "   ... do stuff ...\n",
    "end do\n",
    "\n",
    "Python, Julia: multi-threading is not yet supported\n",
    "- except for external libraries, e.g. for linear algebra\n",
    "- or for machine learning!\n",
    "\n",
    "I hope that this is soon possible:\n",
    "@parallel for i in 1:1000000\n",
    "    ... do stuff ...\n",
    "end\n",
    "\n",
    "\n",
    "\n",
    "Fortran, C, C++: distributed computing uses MPI standard (Message Passing Interface)\n",
    "\n",
    "Julia: distributed computing is built in (today)"
   ]
  },
  {
   "cell_type": "markdown",
   "metadata": {},
   "source": [
    "## Distributed Computing in Julia"
   ]
  },
  {
   "cell_type": "code",
   "execution_count": 3,
   "metadata": {},
   "outputs": [],
   "source": [
    "using Distributed"
   ]
  },
  {
   "cell_type": "code",
   "execution_count": 5,
   "metadata": {},
   "outputs": [
    {
     "data": {
      "text/plain": [
       "1"
      ]
     },
     "execution_count": 5,
     "metadata": {},
     "output_type": "execute_result"
    }
   ],
   "source": [
    "nworkers()"
   ]
  },
  {
   "cell_type": "code",
   "execution_count": 6,
   "metadata": {},
   "outputs": [
    {
     "data": {
      "text/plain": [
       "4-element Array{Int64,1}:\n",
       " 2\n",
       " 3\n",
       " 4\n",
       " 5"
      ]
     },
     "execution_count": 6,
     "metadata": {},
     "output_type": "execute_result"
    }
   ],
   "source": [
    "addprocs(4)"
   ]
  },
  {
   "cell_type": "code",
   "execution_count": 7,
   "metadata": {},
   "outputs": [
    {
     "data": {
      "text/plain": [
       "4"
      ]
     },
     "execution_count": 7,
     "metadata": {},
     "output_type": "execute_result"
    }
   ],
   "source": [
    "nworkers()"
   ]
  },
  {
   "cell_type": "code",
   "execution_count": 8,
   "metadata": {},
   "outputs": [
    {
     "data": {
      "text/plain": [
       "4-element Array{Int64,1}:\n",
       " 2\n",
       " 3\n",
       " 4\n",
       " 5"
      ]
     },
     "execution_count": 8,
     "metadata": {},
     "output_type": "execute_result"
    }
   ],
   "source": [
    "workers()"
   ]
  },
  {
   "cell_type": "code",
   "execution_count": 37,
   "metadata": {},
   "outputs": [],
   "source": [
    "@everywhere function task(from::Int, to::Int)::Float64\n",
    "    s = 0.0\n",
    "    for i in from:to\n",
    "        s += i\n",
    "    end\n",
    "    s\n",
    "end"
   ]
  },
  {
   "cell_type": "code",
   "execution_count": 38,
   "metadata": {},
   "outputs": [
    {
     "name": "stdout",
     "output_type": "stream",
     "text": [
      "  1.533484 seconds (5.36 k allocations: 258.556 KiB)\n"
     ]
    },
    {
     "data": {
      "text/plain": [
       "4.99999999067109e17"
      ]
     },
     "execution_count": 38,
     "metadata": {},
     "output_type": "execute_result"
    }
   ],
   "source": [
    "@time task(0, 999999999)"
   ]
  },
  {
   "cell_type": "code",
   "execution_count": 39,
   "metadata": {},
   "outputs": [
    {
     "name": "stdout",
     "output_type": "stream",
     "text": [
      "  0.000641 seconds (38 allocations: 1.375 KiB)\n"
     ]
    },
    {
     "data": {
      "text/plain": [
       "Future(2, 1, 18, nothing)"
      ]
     },
     "execution_count": 39,
     "metadata": {},
     "output_type": "execute_result"
    }
   ],
   "source": [
    "r = @time remotecall(task, 2, 0, 999999999)"
   ]
  },
  {
   "cell_type": "code",
   "execution_count": 40,
   "metadata": {},
   "outputs": [
    {
     "data": {
      "text/plain": [
       "4.99999999067109e17"
      ]
     },
     "execution_count": 40,
     "metadata": {},
     "output_type": "execute_result"
    }
   ],
   "source": [
    "r[]"
   ]
  },
  {
   "cell_type": "code",
   "execution_count": 47,
   "metadata": {},
   "outputs": [
    {
     "data": {
      "text/plain": [
       "count1 (generic function with 1 method)"
      ]
     },
     "execution_count": 47,
     "metadata": {},
     "output_type": "execute_result"
    }
   ],
   "source": [
    "function count1(n::Int)::Float64\n",
    "    p = 4\n",
    "    np = div(n, p)\n",
    "    @assert mod(n, p) == 0\n",
    "    s = 0.0\n",
    "    for i in 1:p\n",
    "        s += task((i-1)*np+1, i*np)\n",
    "    end\n",
    "    s\n",
    "end"
   ]
  },
  {
   "cell_type": "code",
   "execution_count": 54,
   "metadata": {},
   "outputs": [
    {
     "data": {
      "text/plain": [
       "count (generic function with 1 method)"
      ]
     },
     "execution_count": 54,
     "metadata": {},
     "output_type": "execute_result"
    }
   ],
   "source": [
    "function count(n::Int)::Float64\n",
    "    p = nworkers()\n",
    "    np = div(n, p)\n",
    "    @assert mod(n, p) == 0\n",
    "    futures = Future[]\n",
    "    for i in 1:p\n",
    "        push!(futures, remotecall(task, workers()[i], (i-1)*np+1, i*np))\n",
    "    end\n",
    "    s = 0.0\n",
    "    for f in futures\n",
    "        s += f[]\n",
    "    end\n",
    "    s\n",
    "end"
   ]
  },
  {
   "cell_type": "code",
   "execution_count": 56,
   "metadata": {},
   "outputs": [
    {
     "name": "stdout",
     "output_type": "stream",
     "text": [
      " 14.960530 seconds (5 allocations: 176 bytes)\n",
      "  3.789481 seconds (786 allocations: 29.266 KiB)\n"
     ]
    },
    {
     "data": {
      "text/plain": [
       "5.000000000007186e19"
      ]
     },
     "execution_count": 56,
     "metadata": {},
     "output_type": "execute_result"
    }
   ],
   "source": [
    "@time count1(10000000000)\n",
    "@time count(10000000000)"
   ]
  },
  {
   "cell_type": "code",
   "execution_count": 57,
   "metadata": {},
   "outputs": [
    {
     "data": {
      "text/plain": [
       "3.9479100172292725"
      ]
     },
     "execution_count": 57,
     "metadata": {},
     "output_type": "execute_result"
    }
   ],
   "source": [
    "14.960530 / 3.789481"
   ]
  },
  {
   "cell_type": "code",
   "execution_count": 58,
   "metadata": {},
   "outputs": [
    {
     "name": "stdout",
     "output_type": "stream",
     "text": [
      "Julia Version 1.3.1\n",
      "Commit 2d5741174c* (2019-12-30 21:36 UTC)\n",
      "Platform Info:\n",
      "  OS: Linux (x86_64-linux-gnu)\n",
      "  CPU: Intel(R) Xeon(R) Silver 4114 CPU @ 2.20GHz\n",
      "  WORD_SIZE: 64\n",
      "  LIBM: libopenlibm\n",
      "  LLVM: libLLVM-6.0.1 (ORCJIT, skylake)\n"
     ]
    }
   ],
   "source": [
    "versioninfo()"
   ]
  },
  {
   "cell_type": "code",
   "execution_count": 60,
   "metadata": {},
   "outputs": [
    {
     "name": "stdout",
     "output_type": "stream",
     "text": [
      "\u001b[32m\u001b[1m Resolving\u001b[22m\u001b[39m package versions...\n",
      "\u001b[32m\u001b[1m Installed\u001b[22m\u001b[39m Loess ─────────── v0.5.1\n",
      "\u001b[32m\u001b[1m Installed\u001b[22m\u001b[39m OpenSpecFun_jll ─ v0.5.3+3\n",
      "\u001b[32m\u001b[1m Installed\u001b[22m\u001b[39m PDMats ────────── v0.9.12\n",
      "\u001b[32m\u001b[1m Installed\u001b[22m\u001b[39m Hwloc ─────────── v1.0.3\n",
      "\u001b[32m\u001b[1m Installed\u001b[22m\u001b[39m ArrayInterface ── v2.5.1\n",
      "\u001b[32m\u001b[1m  Updating\u001b[22m\u001b[39m `~/.julia/environments/v1.3/Project.toml`\n",
      " \u001b[90m [0e44f5e4]\u001b[39m\u001b[92m + Hwloc v1.0.3\u001b[39m\n",
      "\u001b[32m\u001b[1m  Updating\u001b[22m\u001b[39m `~/.julia/environments/v1.3/Manifest.toml`\n",
      " \u001b[90m [4fba245c]\u001b[39m\u001b[93m ↑ ArrayInterface v2.5.0 ⇒ v2.5.1\u001b[39m\n",
      " \u001b[90m [0e44f5e4]\u001b[39m\u001b[92m + Hwloc v1.0.3\u001b[39m\n",
      " \u001b[90m [4345ca2d]\u001b[39m\u001b[93m ↑ Loess v0.5.0 ⇒ v0.5.1\u001b[39m\n",
      " \u001b[90m [efe28fd5]\u001b[39m\u001b[93m ↑ OpenSpecFun_jll v0.5.3+2 ⇒ v0.5.3+3\u001b[39m\n",
      " \u001b[90m [90014a1f]\u001b[39m\u001b[93m ↑ PDMats v0.9.11 ⇒ v0.9.12\u001b[39m\n",
      "\u001b[32m\u001b[1m  Building\u001b[22m\u001b[39m Hwloc → `~/.julia/packages/Hwloc/1kB0k/deps/build.log`\n"
     ]
    }
   ],
   "source": [
    "]add Hwloc"
   ]
  },
  {
   "cell_type": "code",
   "execution_count": 64,
   "metadata": {},
   "outputs": [
    {
     "name": "stdout",
     "output_type": "stream",
     "text": [
      "Machine topology:\n",
      "D0: L0 P0 Machine  \n",
      "    D1: L0 P0 Package  \n",
      "        D2: L0 P-1 L3Cache  Cache{size=14417920,depth=3,linesize=64,associativity=11,type=Unified}\n",
      "            D3: L0 P-1 L2Cache  Cache{size=1048576,depth=2,linesize=64,associativity=16,type=Unified}\n",
      "                D4: L0 P-1 L1Cache  Cache{size=32768,depth=1,linesize=64,associativity=8,type=Data}\n",
      "                    D5: L0 P0 Core  \n",
      "                        D6: L0 P0 PU  \n",
      "                        D6: L1 P20 PU  \n",
      "            D3: L1 P-1 L2Cache  Cache{size=1048576,depth=2,linesize=64,associativity=16,type=Unified}\n",
      "                D4: L1 P-1 L1Cache  Cache{size=32768,depth=1,linesize=64,associativity=8,type=Data}\n",
      "                    D5: L1 P4 Core  \n",
      "                        D6: L2 P2 PU  \n",
      "                        D6: L3 P22 PU  \n",
      "            D3: L2 P-1 L2Cache  Cache{size=1048576,depth=2,linesize=64,associativity=16,type=Unified}\n",
      "                D4: L2 P-1 L1Cache  Cache{size=32768,depth=1,linesize=64,associativity=8,type=Data}\n",
      "                    D5: L2 P1 Core  \n",
      "                        D6: L4 P4 PU  \n",
      "                        D6: L5 P24 PU  \n",
      "            D3: L3 P-1 L2Cache  Cache{size=1048576,depth=2,linesize=64,associativity=16,type=Unified}\n",
      "                D4: L3 P-1 L1Cache  Cache{size=32768,depth=1,linesize=64,associativity=8,type=Data}\n",
      "                    D5: L3 P3 Core  \n",
      "                        D6: L6 P6 PU  \n",
      "                        D6: L7 P26 PU  \n",
      "            D3: L4 P-1 L2Cache  Cache{size=1048576,depth=2,linesize=64,associativity=16,type=Unified}\n",
      "                D4: L4 P-1 L1Cache  Cache{size=32768,depth=1,linesize=64,associativity=8,type=Data}\n",
      "                    D5: L4 P2 Core  \n",
      "                        D6: L8 P8 PU  \n",
      "                        D6: L9 P28 PU  \n",
      "            D3: L5 P-1 L2Cache  Cache{size=1048576,depth=2,linesize=64,associativity=16,type=Unified}\n",
      "                D4: L5 P-1 L1Cache  Cache{size=32768,depth=1,linesize=64,associativity=8,type=Data}\n",
      "                    D5: L5 P12 Core  \n",
      "                        D6: L10 P10 PU  \n",
      "                        D6: L11 P30 PU  \n",
      "            D3: L6 P-1 L2Cache  Cache{size=1048576,depth=2,linesize=64,associativity=16,type=Unified}\n",
      "                D4: L6 P-1 L1Cache  Cache{size=32768,depth=1,linesize=64,associativity=8,type=Data}\n",
      "                    D5: L6 P8 Core  \n",
      "                        D6: L12 P12 PU  \n",
      "                        D6: L13 P32 PU  \n",
      "            D3: L7 P-1 L2Cache  Cache{size=1048576,depth=2,linesize=64,associativity=16,type=Unified}\n",
      "                D4: L7 P-1 L1Cache  Cache{size=32768,depth=1,linesize=64,associativity=8,type=Data}\n",
      "                    D5: L7 P11 Core  \n",
      "                        D6: L14 P14 PU  \n",
      "                        D6: L15 P34 PU  \n",
      "            D3: L8 P-1 L2Cache  Cache{size=1048576,depth=2,linesize=64,associativity=16,type=Unified}\n",
      "                D4: L8 P-1 L1Cache  Cache{size=32768,depth=1,linesize=64,associativity=8,type=Data}\n",
      "                    D5: L8 P9 Core  \n",
      "                        D6: L16 P16 PU  \n",
      "                        D6: L17 P36 PU  \n",
      "            D3: L9 P-1 L2Cache  Cache{size=1048576,depth=2,linesize=64,associativity=16,type=Unified}\n",
      "                D4: L9 P-1 L1Cache  Cache{size=32768,depth=1,linesize=64,associativity=8,type=Data}\n",
      "                    D5: L9 P10 Core  \n",
      "                        D6: L18 P18 PU  \n",
      "                        D6: L19 P38 PU  \n",
      "    D1: L1 P1 Package  \n",
      "        D2: L1 P-1 L3Cache  Cache{size=14417920,depth=3,linesize=64,associativity=11,type=Unified}\n",
      "            D3: L10 P-1 L2Cache  Cache{size=1048576,depth=2,linesize=64,associativity=16,type=Unified}\n",
      "                D4: L10 P-1 L1Cache  Cache{size=32768,depth=1,linesize=64,associativity=8,type=Data}\n",
      "                    D5: L10 P0 Core  \n",
      "                        D6: L20 P1 PU  \n",
      "                        D6: L21 P21 PU  \n",
      "            D3: L11 P-1 L2Cache  Cache{size=1048576,depth=2,linesize=64,associativity=16,type=Unified}\n",
      "                D4: L11 P-1 L1Cache  Cache{size=32768,depth=1,linesize=64,associativity=8,type=Data}\n",
      "                    D5: L11 P4 Core  \n",
      "                        D6: L22 P3 PU  \n",
      "                        D6: L23 P23 PU  \n",
      "            D3: L12 P-1 L2Cache  Cache{size=1048576,depth=2,linesize=64,associativity=16,type=Unified}\n",
      "                D4: L12 P-1 L1Cache  Cache{size=32768,depth=1,linesize=64,associativity=8,type=Data}\n",
      "                    D5: L12 P1 Core  \n",
      "                        D6: L24 P5 PU  \n",
      "                        D6: L25 P25 PU  \n",
      "            D3: L13 P-1 L2Cache  Cache{size=1048576,depth=2,linesize=64,associativity=16,type=Unified}\n",
      "                D4: L13 P-1 L1Cache  Cache{size=32768,depth=1,linesize=64,associativity=8,type=Data}\n",
      "                    D5: L13 P3 Core  \n",
      "                        D6: L26 P7 PU  \n",
      "                        D6: L27 P27 PU  \n",
      "            D3: L14 P-1 L2Cache  Cache{size=1048576,depth=2,linesize=64,associativity=16,type=Unified}\n",
      "                D4: L14 P-1 L1Cache  Cache{size=32768,depth=1,linesize=64,associativity=8,type=Data}\n",
      "                    D5: L14 P2 Core  \n",
      "                        D6: L28 P9 PU  \n",
      "                        D6: L29 P29 PU  \n",
      "            D3: L15 P-1 L2Cache  Cache{size=1048576,depth=2,linesize=64,associativity=16,type=Unified}\n",
      "                D4: L15 P-1 L1Cache  Cache{size=32768,depth=1,linesize=64,associativity=8,type=Data}\n",
      "                    D5: L15 P12 Core  \n",
      "                        D6: L30 P11 PU  \n",
      "                        D6: L31 P31 PU  \n",
      "            D3: L16 P-1 L2Cache  Cache{size=1048576,depth=2,linesize=64,associativity=16,type=Unified}\n",
      "                D4: L16 P-1 L1Cache  Cache{size=32768,depth=1,linesize=64,associativity=8,type=Data}\n",
      "                    D5: L16 P8 Core  \n",
      "                        D6: L32 P13 PU  \n",
      "                        D6: L33 P33 PU  \n",
      "            D3: L17 P-1 L2Cache  Cache{size=1048576,depth=2,linesize=64,associativity=16,type=Unified}\n",
      "                D4: L17 P-1 L1Cache  Cache{size=32768,depth=1,linesize=64,associativity=8,type=Data}\n",
      "                    D5: L17 P11 Core  \n",
      "                        D6: L34 P15 PU  \n",
      "                        D6: L35 P35 PU  \n",
      "            D3: L18 P-1 L2Cache  Cache{size=1048576,depth=2,linesize=64,associativity=16,type=Unified}\n",
      "                D4: L18 P-1 L1Cache  Cache{size=32768,depth=1,linesize=64,associativity=8,type=Data}\n",
      "                    D5: L18 P9 Core  \n",
      "                        D6: L36 P17 PU  \n",
      "                        D6: L37 P37 PU  \n",
      "            D3: L19 P-1 L2Cache  Cache{size=1048576,depth=2,linesize=64,associativity=16,type=Unified}\n",
      "                D4: L19 P-1 L1Cache  Cache{size=32768,depth=1,linesize=64,associativity=8,type=Data}\n",
      "                    D5: L19 P10 Core  \n",
      "                        D6: L38 P19 PU  \n",
      "                        D6: L39 P39 PU  \n"
     ]
    }
   ],
   "source": [
    "using Hwloc\n",
    "topology = Hwloc.topology_load()\n",
    "println(\"Machine topology:\")\n",
    "print(topology)"
   ]
  },
  {
   "cell_type": "code",
   "execution_count": null,
   "metadata": {},
   "outputs": [],
   "source": []
  }
 ],
 "metadata": {
  "kernelspec": {
   "display_name": "Julia 1.3.1",
   "language": "julia",
   "name": "julia-1.3"
  },
  "language_info": {
   "file_extension": ".jl",
   "mimetype": "application/julia",
   "name": "julia",
   "version": "1.3.1"
  }
 },
 "nbformat": 4,
 "nbformat_minor": 4
}
