{
 "cells": [
  {
   "cell_type": "markdown",
   "metadata": {},
   "source": [
    "Packages:\n",
    "\n",
    "- [JuMP](https://github.com/JuliaOpt/JuMP.jl) Modeling framework, works with nonconvex problems\n",
    "- [Ipopt](https://github.com/JuliaOpt/Ipopt.jl) Interior point optimizer"
   ]
  },
  {
   "cell_type": "code",
   "execution_count": 1,
   "metadata": {},
   "outputs": [
    {
     "name": "stderr",
     "output_type": "stream",
     "text": [
      "┌ Info: Precompiling JuMP [4076af6c-e467-56ae-b986-b466b2749572]\n",
      "└ @ Base loading.jl:1273\n",
      "┌ Warning: The call to compilecache failed to create a usable precompiled cache file for JSONSchema [7d188eb4-7ad8-530c-ae41-71a32a6d4692]\n",
      "│   exception = Required dependency HTTP [cd3eb016-35fb-5094-929b-558a96fad6f3] failed to load from a cache file.\n",
      "└ @ Base loading.jl:1036\n",
      "┌ Warning: The call to compilecache failed to create a usable precompiled cache file for MathOptInterface [b8f27783-ece8-5eb3-8dc8-9495eed66fee]\n",
      "│   exception = Invalid input in module list: expected JSONSchema.\n",
      "└ @ Base loading.jl:1036\n",
      "┌ Info: Precompiling Ipopt [b6b21f68-93f8-5de0-b562-5493be1d77c9]\n",
      "└ @ Base loading.jl:1273\n",
      "┌ Warning: Module MathOptInterface with build ID 1162530345716 is missing from the cache.\n",
      "│ This may mean MathOptInterface [b8f27783-ece8-5eb3-8dc8-9495eed66fee] does not support precompilation but is imported by a module that does.\n",
      "└ @ Base loading.jl:1011\n",
      "┌ Info: Skipping precompilation since __precompile__(false). Importing Ipopt [b6b21f68-93f8-5de0-b562-5493be1d77c9].\n",
      "└ @ Base loading.jl:1028\n"
     ]
    }
   ],
   "source": [
    "using JuMP\n",
    "using Ipopt"
   ]
  },
  {
   "cell_type": "markdown",
   "metadata": {},
   "source": [
    "# Same example using JuMP\n",
    "\n",
    "Is there a better way to pass parameters? How to store intermediate expressions? Support for intermediate complex expressions?"
   ]
  },
  {
   "cell_type": "code",
   "execution_count": 2,
   "metadata": {},
   "outputs": [
    {
     "data": {
      "text/plain": [
       "chsh_jump (generic function with 1 method)"
      ]
     },
     "execution_count": 2,
     "metadata": {},
     "output_type": "execute_result"
    }
   ],
   "source": [
    "function chsh_jump(x1,x2,x3,x4)\n",
    "# variable x(1:2) Alice angles, x(3:4) Bob angles\n",
    "    c = 0;\n",
    "    for s = 1:2\n",
    "        if s == 1\n",
    "            alpha = x1;\n",
    "        else\n",
    "            alpha = x2;\n",
    "        end\n",
    "        for a = 1:2\n",
    "           if a == 1\n",
    "                A = [cos(alpha)\n",
    "                     sin(alpha)];\n",
    "            else\n",
    "                A = [-sin(alpha)\n",
    "                     cos(alpha)];\n",
    "            end\n",
    "            for t = 1:2\n",
    "                if t == 1\n",
    "                    beta = x3;\n",
    "                else\n",
    "                    beta = x4;\n",
    "                end\n",
    "                for b = 1:2\n",
    "                    if b == 1\n",
    "                        B = [cos(beta)\n",
    "                             sin(beta)];\n",
    "                    else\n",
    "                        B = [-sin(beta)\n",
    "                             cos(beta)];\n",
    "                    end\n",
    "                    ov = kron(A, B)' * [0; 1; -1; 0]/sqrt(2);\n",
    "                    c = c + (-1)^((a-1)+(b-1)+(s-1)*(t-1))*ov*ov;\n",
    "                end\n",
    "            end\n",
    "        end\n",
    "    end\n",
    "    return c\n",
    "end"
   ]
  },
  {
   "cell_type": "code",
   "execution_count": 3,
   "metadata": {},
   "outputs": [
    {
     "name": "stdout",
     "output_type": "stream",
     "text": [
      "\n",
      "******************************************************************************\n",
      "This program contains Ipopt, a library for large-scale nonlinear optimization.\n",
      " Ipopt is released as open source code under the Eclipse Public License (EPL).\n",
      "         For more information visit http://projects.coin-or.org/Ipopt\n",
      "******************************************************************************\n",
      "\n",
      "This is Ipopt version 3.12.10, running with linear solver mumps.\n",
      "NOTE: Other linear solvers might be more efficient (see Ipopt documentation).\n",
      "\n",
      "Number of nonzeros in equality constraint Jacobian...:        0\n",
      "Number of nonzeros in inequality constraint Jacobian.:        0\n",
      "Number of nonzeros in Lagrangian Hessian.............:        0\n",
      "\n",
      "Total number of variables............................:        4\n",
      "                     variables with only lower bounds:        0\n",
      "                variables with lower and upper bounds:        0\n",
      "                     variables with only upper bounds:        0\n",
      "Total number of equality constraints.................:        0\n",
      "Total number of inequality constraints...............:        0\n",
      "        inequality constraints with only lower bounds:        0\n",
      "   inequality constraints with lower and upper bounds:        0\n",
      "        inequality constraints with only upper bounds:        0\n",
      "\n",
      "iter    objective    inf_pr   inf_du lg(mu)  ||d||  lg(rg) alpha_du alpha_pr  ls\n",
      "   0 -1.5910993e+00 0.00e+00 2.65e+00   0.0 0.00e+00    -  0.00e+00 0.00e+00   0\n",
      "   1 -2.0998437e+00 0.00e+00 1.19e+00 -11.0 2.65e+00    -  1.00e+00 1.25e-01f  4\n",
      "   2 -2.3211463e+00 0.00e+00 1.11e+00 -11.0 1.18e-01    -  1.00e+00 1.00e+00f  1\n",
      "   3 -2.4478539e+00 0.00e+00 1.56e+00 -11.0 4.05e+00    -  1.00e+00 1.25e-01f  4\n",
      "   4 -2.6989333e+00 0.00e+00 7.67e-01 -11.0 2.83e-01    -  1.00e+00 1.00e+00f  1\n",
      "   5 -2.7802557e+00 0.00e+00 6.23e-01 -11.0 7.72e-02    -  1.00e+00 1.00e+00f  1\n",
      "   6 -2.8162007e+00 0.00e+00 3.55e-01 -11.0 6.97e-02    -  1.00e+00 1.00e+00f  1\n",
      "   7 -2.8267013e+00 0.00e+00 1.29e-01 -11.0 2.91e-02    -  1.00e+00 1.00e+00f  1\n",
      "   8 -2.8284197e+00 0.00e+00 6.52e-03 -11.0 1.51e-02    -  1.00e+00 1.00e+00f  1\n",
      "   9 -2.8284264e+00 0.00e+00 2.34e-03 -11.0 7.90e-04    -  1.00e+00 1.00e+00f  1\n",
      "iter    objective    inf_pr   inf_du lg(mu)  ||d||  lg(rg) alpha_du alpha_pr  ls\n",
      "  10 -2.8284271e+00 0.00e+00 3.97e-05 -11.0 3.70e-04    -  1.00e+00 1.00e+00f  1\n",
      "  11 -2.8284271e+00 0.00e+00 4.19e-06 -11.0 6.23e-06    -  1.00e+00 1.00e+00f  1\n",
      "  12 -2.8284271e+00 0.00e+00 4.03e-09 -11.0 5.83e-07    -  1.00e+00 1.00e+00f  1\n",
      "\n",
      "Number of Iterations....: 12\n",
      "\n",
      "                                   (scaled)                 (unscaled)\n",
      "Objective...............:  -2.8284271247461890e+00   -2.8284271247461890e+00\n",
      "Dual infeasibility......:   4.0322807315362752e-09    4.0322807315362752e-09\n",
      "Constraint violation....:   0.0000000000000000e+00    0.0000000000000000e+00\n",
      "Complementarity.........:   0.0000000000000000e+00    0.0000000000000000e+00\n",
      "Overall NLP error.......:   4.0322807315362752e-09    4.0322807315362752e-09\n",
      "\n",
      "\n",
      "Number of objective function evaluations             = 27\n",
      "Number of objective gradient evaluations             = 13\n",
      "Number of equality constraint evaluations            = 0\n",
      "Number of inequality constraint evaluations          = 0\n",
      "Number of equality constraint Jacobian evaluations   = 0\n",
      "Number of inequality constraint Jacobian evaluations = 0\n",
      "Number of Lagrangian Hessian evaluations             = 0\n",
      "Total CPU secs in IPOPT (w/o function evaluations)   =      1.437\n",
      "Total CPU secs in NLP function evaluations           =      0.033\n",
      "\n",
      "EXIT: Optimal Solution Found.\n"
     ]
    }
   ],
   "source": [
    "using JuMP\n",
    "using Ipopt\n",
    "model = Model(Ipopt.Optimizer)\n",
    "JuMP.register(model, :chsh_jump, 4, chsh_jump, autodiff=true)\n",
    "x0 = rand(4)*2*pi\n",
    "@variable(model, x1, start = x0[1])\n",
    "@variable(model, x2, start = x0[2])\n",
    "@variable(model, x3, start = x0[3])\n",
    "@variable(model, x4, start = x0[4])\n",
    "@NLobjective(model, Max, chsh_jump(x1, x2, x3, x4))\n",
    "JuMP.optimize!(model)"
   ]
  },
  {
   "cell_type": "code",
   "execution_count": null,
   "metadata": {},
   "outputs": [],
   "source": []
  }
 ],
 "metadata": {
  "kernelspec": {
   "display_name": "Julia 1.3.1",
   "language": "julia",
   "name": "julia-1.3"
  },
  "language_info": {
   "file_extension": ".jl",
   "mimetype": "application/julia",
   "name": "julia",
   "version": "1.3.1"
  }
 },
 "nbformat": 4,
 "nbformat_minor": 4
}
