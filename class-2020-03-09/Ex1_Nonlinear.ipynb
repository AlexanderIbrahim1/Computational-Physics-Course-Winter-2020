{
 "cells": [
  {
   "cell_type": "markdown",
   "metadata": {},
   "source": [
    "Packages:\n",
    "\n",
    "- [NLopt](https://github.com/JuliaOpt/NLopt.jl) Powell's derivative-free algorithms\n",
    "- [Optim](https://github.com/JuliaNLSolvers/Optim.jl) Gradient-based algorithms, autodifferentiation support"
   ]
  },
  {
   "cell_type": "code",
   "execution_count": 10,
   "metadata": {},
   "outputs": [],
   "source": [
    "using NLopt\n",
    "using Optim\n",
    "using Printf"
   ]
  },
  {
   "cell_type": "markdown",
   "metadata": {},
   "source": [
    "# Nonlinear unconstrained optimization\n",
    "\n",
    "Example: projective measurements on the singlet state $\\left| \\Psi^- \\right> = \\left| 01 - 10 \\right>/\\sqrt{2} \\in \\mathcal{H}_\\text{A} \\otimes (\\mathcal{H}_\\text{B})$.\n",
    "\n",
    "A for Alice and B for Bob.\n",
    "\n",
    "We parameterize local measurements by qubit states.\n",
    "\n",
    "$$ \\left| \\vec{\\phi} \\right> = \\begin{pmatrix} \\cos \\phi_1 \\\\ e^{i \\phi_2} \\sin \\phi_1 \\end{pmatrix}, \\qquad \\left| \\vec{\\phi} \\right>_\\perp = \\begin{pmatrix} -\\sin \\phi_1 \\\\ e^{i \\phi_2} \\cos \\phi_1 \\end{pmatrix}  $$\n",
    "\n",
    "There are two measurement settings indexed by $s=1,2$ on $\\mathcal{H}_\\text{A}$, corresponding to two projectors $\\{\\left| \\alpha_1 \\right>, \\left| \\alpha_1 \\right>_\\perp\\}$ and $\\{\\left| \\alpha_2 \\right>, \\left| \\alpha_2 \\right>_\\perp \\}$, and two measurement settings indexed by $t=1,2$ on $\\mathcal{H}_\\text{B}$, corresponding to $\\{\\left| \\beta_1 \\right>, \\left| \\beta_1 \\right>_\\perp\\}$ and $\\{\\left| \\beta_2 \\right>, \\left| \\beta_2 \\right>_\\perp\\}$.\n",
    "\n",
    "The measurement outcomes are 1-based (Julia, Matlab), so that $a=1$ corresponds to $\\left | \\alpha_s \\right >$ and $a=2$ to $\\left | \\alpha_s \\right >_\\perp$. The same for Bob: for $b=1$ corresponds to $\\left | \\beta_t \\right>$ and $b=2$ to $\\left| \\beta_t \\right>_\\perp$\n",
    "\n",
    "Then we consider the joint, conditional probability distribution $$ P_\\text{AB|ST}(a,b|s,t) $$. We compute using Born's rule:\n",
    "\n",
    "$$ P_\\text{AB|ST}(1,1|s,t) = \\left( \\left< \\alpha_s \\right | \\otimes \\left< \\beta_t \\right | \\right ) \\left | \\Psi^- \\right > $$\n",
    "$$ P_\\text{AB|ST}(2,1|s,t) = \\left( \\left< \\alpha_s \\right |_\\perp \\otimes \\left< \\beta_t \\right | \\right ) \\left | \\Psi^- \\right > $$\n",
    "$$ P_\\text{AB|ST}(1,2|s,t) = \\left( \\left< \\alpha_s \\right | \\otimes \\left< \\beta_t \\right |_\\perp \\right ) \\left | \\Psi^- \\right > $$\n",
    "$$ P_\\text{AB|ST}(2,2|s,t) = \\left( \\left< \\alpha_s \\right |_\\perp \\otimes \\left< \\beta_t \\right |_\\perp \\right ) \\left | \\Psi^- \\right > $$\n",
    "\n",
    "We want to maximize the CHSH expression:\n",
    "\n",
    "$$ C = \\sum_{abst} (-1)^{(a-1)+(b-1)+(s-1)(t-1)} P_\\text{AB|ST}(a,b|s,t) $$"
   ]
  },
  {
   "cell_type": "code",
   "execution_count": 11,
   "metadata": {},
   "outputs": [
    {
     "data": {
      "text/plain": [
       "singlet_proj_prob (generic function with 1 method)"
      ]
     },
     "execution_count": 11,
     "metadata": {},
     "output_type": "execute_result"
    }
   ],
   "source": [
    "function singlet_proj_prob(x)\n",
    "# Computes the joint probability distribution given by two projective measurements on each subsystem of a singlet state\n",
    "    P = zeros(eltype(x)::Type, (2, 2, 2, 2));\n",
    "    A = zeros(Complex{eltype(x)::Type}, (2, 2, 2));\n",
    "    B = zeros(Complex{eltype(x)::Type}, (2, 2, 2));\n",
    "    A[:,1,1] = [ cos(x[1])\n",
    "                 sin(x[1])];\n",
    "    A[:,2,1] = [-sin(x[1])\n",
    "                 cos(x[1])];\n",
    "    A[:,1,2] = [ cos(x[2])\n",
    "                 sin(x[2])];\n",
    "    A[:,2,2] = [-sin(x[2])\n",
    "                 cos(x[2])];\n",
    "    B[:,1,1] = [ cos(x[3])\n",
    "                 sin(x[3])];\n",
    "    B[:,2,1] = [-sin(x[3])\n",
    "                 cos(x[3])];\n",
    "    B[:,1,2] = [ cos(x[4])\n",
    "                 sin(x[4])];\n",
    "    B[:,2,2] = [-sin(x[4])\n",
    "                 cos(x[4])];\n",
    "    for s = 1:2\n",
    "        for t = 1:2\n",
    "            for a = 1:2\n",
    "                for b = 1:2\n",
    "                    ov = kron(A[:,a,s], B[:,b,t])' * [0; 1; -1; 0]/sqrt(2);\n",
    "                    P[a,b,s,t] = real(conj(ov)*ov);\n",
    "                end\n",
    "            end\n",
    "        end\n",
    "    end\n",
    "    return P\n",
    "end"
   ]
  },
  {
   "cell_type": "code",
   "execution_count": 12,
   "metadata": {},
   "outputs": [
    {
     "data": {
      "text/plain": [
       "chsh (generic function with 1 method)"
      ]
     },
     "execution_count": 12,
     "metadata": {},
     "output_type": "execute_result"
    }
   ],
   "source": [
    "function chsh(P)\n",
    "# Computes the CHSH expression from a joint probability distribution\n",
    "    C = 0;\n",
    "    for s = 1:2\n",
    "        for t = 1:2\n",
    "            for a = 1:2\n",
    "                for b = 1:2\n",
    "                    C = C + (-1)^((a-1)+(b-1)+(s-1)*(t-1)) * P[a,b,s,t];\n",
    "                end\n",
    "            end\n",
    "        end\n",
    "    end\n",
    "    return C\n",
    "end"
   ]
  },
  {
   "cell_type": "code",
   "execution_count": 13,
   "metadata": {},
   "outputs": [],
   "source": [
    "using Optim\n",
    "# Set up objective function, minus sign for maximization\n",
    "f(x) = -chsh(singlet_proj_prob(x))\n",
    "# Random initial point\n",
    "x0 = rand(Float64, 4)*2*pi\n",
    "verbose = true;"
   ]
  },
  {
   "cell_type": "code",
   "execution_count": 14,
   "metadata": {},
   "outputs": [
    {
     "name": "stdout",
     "output_type": "stream",
     "text": [
      "Iter     Function value    √(Σ(yᵢ-ȳ)²)/n \n",
      "------   --------------    --------------\n",
      "     0    -2.052920e+00     1.712428e+00\n",
      " * time: 4.601478576660156e-5\n",
      "    10    -2.061950e+00     9.186981e-01\n",
      " * time: 0.0004200935363769531\n",
      "    20    -2.448260e+00     1.259492e-01\n",
      " * time: 0.0007059574127197266\n",
      "    30    -2.785470e+00     1.507191e-02\n",
      " * time: 0.0009741783142089844\n",
      "    40    -2.822231e+00     1.482387e-03\n",
      " * time: 0.0012400150299072266\n",
      "    50    -2.827533e+00     4.556943e-04\n",
      " * time: 0.0015010833740234375\n",
      "    60    -2.828306e+00     3.392680e-05\n",
      " * time: 0.0017590522766113281\n",
      "    70    -2.828408e+00     1.394863e-05\n",
      " * time: 0.002020120620727539\n",
      "    80    -2.828426e+00     1.232248e-06\n",
      " * time: 0.002290964126586914\n",
      "    90    -2.828427e+00     1.385119e-07\n",
      " * time: 0.002565145492553711\n",
      "\n",
      "\n",
      "Maximum: 2.828427 in 99 iterations\n",
      "Diff: 7.6E-09\n"
     ]
    }
   ],
   "source": [
    "# Derivative-free, and possibly not differentiable: Nelder-Mead recommended\n",
    "res = Optim.optimize(f, x0, Optim.NelderMead(), Optim.Options(f_tol = 1e-8, show_trace = verbose, show_every = 10))\n",
    "@printf(\"\\n\\nMaximum: %f in %d iterations\\n\", -Optim.minimum(res), Optim.iterations(res))\n",
    "@printf(\"Diff: %0.1E\\n\", abs(Optim.minimum(res) + 2*sqrt(2)))"
   ]
  },
  {
   "cell_type": "code",
   "execution_count": 15,
   "metadata": {},
   "outputs": [
    {
     "name": "stdout",
     "output_type": "stream",
     "text": [
      "\n",
      "\n",
      "Maximum: 2.828427 in 70 iterations\n",
      "Diff: 8.8E-08\n"
     ]
    }
   ],
   "source": [
    "# Derivative-free but differentiable: Powell's BOBYQA building a quadratic model\n",
    "\n",
    "# Uses NLopt, so different calling convention.\n",
    "# Warning: Powell's method becomes interesting for medium scale problems, here not much difference with Nelder-Mead\n",
    "\n",
    "function vis(x::Vector, grad::Vector)\n",
    "# we fake a \"grad\" argument to make NLopt happy\n",
    "   val = -chsh(singlet_proj_prob(x))\n",
    "   return val\n",
    "end\n",
    "\n",
    "opt = Opt(:LN_BOBYQA, 4)\n",
    "opt.lower_bounds = zeros(4)*1.0\n",
    "opt.upper_bounds = ones(4)*2*pi*1.0\n",
    "opt.min_objective = vis\n",
    "opt.ftol_rel = 1e-8\n",
    "(minf, minx, ret) = NLopt.optimize(opt, x0)\n",
    "@printf(\"\\n\\nMaximum: %f in %d iterations\\n\", -minf, opt.numevals)\n",
    "@printf(\"Diff: %0.1E\\n\", abs(minf + 2*sqrt(2)))"
   ]
  },
  {
   "cell_type": "code",
   "execution_count": 16,
   "metadata": {},
   "outputs": [
    {
     "name": "stdout",
     "output_type": "stream",
     "text": [
      "Iter     Function value   Gradient norm \n",
      "     0     1.308356e+00     3.189312e+00\n",
      " * time: 4.00543212890625e-5\n",
      "\n",
      "\n",
      "Maximum: 2.828427 in 7 iterations\n",
      "Diff: 1.3E-15\n"
     ]
    }
   ],
   "source": [
    "# Using information in provided Hessian, here using autodifferentiation\n",
    "res = Optim.optimize(f, x0, Optim.Newton(), Optim.Options(f_tol = 1e-8, show_trace = verbose, show_every = 10); autodiff = :forward)\n",
    "@printf(\"\\n\\nMaximum: %f in %d iterations\\n\", -Optim.minimum(res), Optim.iterations(res))\n",
    "@printf(\"Diff: %0.1E\\n\", abs(Optim.minimum(res) + 2*sqrt(2)))"
   ]
  },
  {
   "cell_type": "code",
   "execution_count": 17,
   "metadata": {},
   "outputs": [
    {
     "name": "stdout",
     "output_type": "stream",
     "text": [
      "Iter     Function value   Gradient norm \n",
      "     0     1.308356e+00     3.189312e+00\n",
      " * time: 2.002716064453125e-5\n",
      "    10    -2.828427e+00     1.988244e-10\n",
      " * time: 0.00040984153747558594\n",
      "\n",
      "\n",
      "Maximum: 2.828427 in 10 iterations\n",
      "Diff: 0.0E+00\n"
     ]
    }
   ],
   "source": [
    "# Only gradients provided: BSGS recommended (medium scale), Hessian is approximated, gradients from autodifferentation\n",
    "res = Optim.optimize(f, x0, Optim.BFGS(), Optim.Options(f_tol = 1e-8, show_trace = verbose, show_every = 10); autodiff = :forward)\n",
    "@printf(\"\\n\\nMaximum: %f in %d iterations\\n\", -Optim.minimum(res), Optim.iterations(res))\n",
    "@printf(\"Diff: %0.1E\\n\", abs(Optim.minimum(res) + 2*sqrt(2)))"
   ]
  },
  {
   "cell_type": "code",
   "execution_count": 18,
   "metadata": {},
   "outputs": [
    {
     "name": "stdout",
     "output_type": "stream",
     "text": [
      "Iter     Function value   Gradient norm \n",
      "     0     1.308356e+00     3.189312e+00\n",
      " * time: 1.1920928955078125e-5\n",
      "\n",
      "\n",
      "Maximum: 2.828427 in 9 iterations\n",
      "Diff: 4.4E-16\n"
     ]
    }
   ],
   "source": [
    "# Gradients provided, large scale, use limited memory BFGS\n",
    "res = Optim.optimize(f, x0, Optim.LBFGS(), Optim.Options(show_trace = verbose, show_every = 10); autodiff = :forward)\n",
    "@printf(\"\\n\\nMaximum: %f in %d iterations\\n\", -Optim.minimum(res), Optim.iterations(res))\n",
    "@printf(\"Diff: %0.1E\\n\", abs(Optim.minimum(res) + 2*sqrt(2)))"
   ]
  },
  {
   "cell_type": "markdown",
   "metadata": {},
   "source": [
    "# Exercices\n",
    "\n",
    "- Find a \"nice\" algebraic expression for the maximizer corresponding to the objective value $2 \\sqrt{2}$\n",
    "- Add support for the complex part, see if there is any difference (real vs. complex quantum mechanics!).\n",
    "- Parameterize the quantum state as $\\left| \\gamma \\right> = \\cos \\gamma \\left| 01 \\right> + \\sin \\gamma \\left| 10 \\right>$. Which state leads to the largest violation?\n",
    "\n",
    "## Bonus open ended exercices\n",
    "\n",
    "- Plot the objective value for the iteration number; either use the trace, a callback, or just stop the algorithm after $n$ steps.\n",
    "- (Beware package incompatibilities) Parameterize $\\cos \\alpha, \\sin \\alpha$ as $x_1, x_2$ with $x_1^2 + x_2^2 = 1$ for each angle, and rewrite the above as a polynomial optimization problem. Solve with JuMP and the polynomial optimization extensions. Can you certify that $2 \\sqrt(2)$ is a global maximum?"
   ]
  },
  {
   "cell_type": "code",
   "execution_count": null,
   "metadata": {},
   "outputs": [],
   "source": []
  }
 ],
 "metadata": {
  "kernelspec": {
   "display_name": "Julia 1.3.1",
   "language": "julia",
   "name": "julia-1.3"
  },
  "language_info": {
   "file_extension": ".jl",
   "mimetype": "application/julia",
   "name": "julia",
   "version": "1.3.1"
  }
 },
 "nbformat": 4,
 "nbformat_minor": 4
}
