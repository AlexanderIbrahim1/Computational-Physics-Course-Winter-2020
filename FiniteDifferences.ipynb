{
 "cells": [
  {
   "cell_type": "code",
   "execution_count": 1,
   "metadata": {},
   "outputs": [
    {
     "name": "stdout",
     "output_type": "stream",
     "text": [
      "Julia Version 1.3.1\n",
      "Commit 2d5741174c* (2019-12-30 21:36 UTC)\n",
      "Platform Info:\n",
      "  OS: Linux (x86_64-linux-gnu)\n",
      "  CPU: Intel(R) Xeon(R) Silver 4114 CPU @ 2.20GHz\n",
      "  WORD_SIZE: 64\n",
      "  LIBM: libopenlibm\n",
      "  LLVM: libLLVM-6.0.1 (ORCJIT, skylake)\n",
      "Environment:\n",
      "  JULIA_MPI_PATH = /home/eschnetter/src/spack-view\n"
     ]
    }
   ],
   "source": [
    "versioninfo()"
   ]
  },
  {
   "cell_type": "code",
   "execution_count": 2,
   "metadata": {},
   "outputs": [
    {
     "name": "stderr",
     "output_type": "stream",
     "text": [
      "┌ Info: Precompiling Gadfly [c91e804a-d5a3-530f-b6f0-dfbca275c004]\n",
      "└ @ Base loading.jl:1273\n"
     ]
    }
   ],
   "source": [
    "using Gadfly"
   ]
  },
  {
   "cell_type": "code",
   "execution_count": null,
   "metadata": {},
   "outputs": [],
   "source": [
    "xs = [i/1000 for i in 0:1000]\n",
    "plot(x=xs, y=[exp(-40*(x-0.6)^2) for x in xs], Geom.line)"
   ]
  },
  {
   "cell_type": "markdown",
   "metadata": {},
   "source": [
    "## Basis functions (hat functions)"
   ]
  },
  {
   "cell_type": "code",
   "execution_count": null,
   "metadata": {},
   "outputs": [],
   "source": [
    "\"\"\"\n",
    "Basis function hat(i, N, x)\n",
    "\"\"\"\n",
    "function hat(i, N, x::T) where {T}\n",
    "    @assert 0 <= i < N\n",
    "    # calculate grid spacing\n",
    "    h = 1 / T(N-1)\n",
    "    # collocation points\n",
    "    xim1 = h * (i-1)\n",
    "    xi = h * i\n",
    "    xip1 = h * (i+1)\n",
    "    # case distinction (piecewise linear!)\n",
    "    if x <= xim1\n",
    "        return T(0)\n",
    "    elseif x <= xi\n",
    "        return (x - xim1) / h\n",
    "    elseif x <= xip1\n",
    "        return -(x - xip1) / h\n",
    "    else\n",
    "        return T(0)\n",
    "    end\n",
    "end"
   ]
  },
  {
   "cell_type": "code",
   "execution_count": null,
   "metadata": {},
   "outputs": [],
   "source": [
    "plot(x=xs, y=[hat(4, 11, x) for x in xs], Geom.line)"
   ]
  },
  {
   "cell_type": "markdown",
   "metadata": {},
   "source": [
    "## Discrete functions"
   ]
  },
  {
   "cell_type": "code",
   "execution_count": null,
   "metadata": {},
   "outputs": [],
   "source": [
    "struct Fun{T}\n",
    "    coeffs::Vector{T}\n",
    "end"
   ]
  },
  {
   "cell_type": "code",
   "execution_count": null,
   "metadata": {},
   "outputs": [],
   "source": [
    "dump(Fun{Float64}([1,2,3]))"
   ]
  },
  {
   "cell_type": "code",
   "execution_count": null,
   "metadata": {},
   "outputs": [],
   "source": [
    "function Base.:+(f::Fun{T}, g::Fun{T}) where {T}\n",
    "    Fun{T}(f.coeffs + g.coeffs)\n",
    "end"
   ]
  },
  {
   "cell_type": "code",
   "execution_count": null,
   "metadata": {},
   "outputs": [],
   "source": [
    "function Base.:-(f::Fun{T}, g::Fun{T}) where {T}\n",
    "    Fun{T}(f.coeffs - g.coeffs)\n",
    "end"
   ]
  },
  {
   "cell_type": "code",
   "execution_count": null,
   "metadata": {},
   "outputs": [],
   "source": []
  },
  {
   "cell_type": "code",
   "execution_count": null,
   "metadata": {},
   "outputs": [],
   "source": [
    "function sample(f, N)\n",
    "    h = 1 / (N-1)\n",
    "    coeffs = Float64[f(h*i) for i in 0:N-1]\n",
    "    Fun{Float64}(coeffs)\n",
    "end"
   ]
  },
  {
   "cell_type": "code",
   "execution_count": null,
   "metadata": {},
   "outputs": [],
   "source": [
    "sample(x->x^2, 5)"
   ]
  },
  {
   "cell_type": "code",
   "execution_count": null,
   "metadata": {},
   "outputs": [],
   "source": [
    "g(x) = exp(-40*(x-0.6)^2)"
   ]
  },
  {
   "cell_type": "code",
   "execution_count": null,
   "metadata": {},
   "outputs": [],
   "source": [
    "g11coeffs = sample(g, 11)"
   ]
  },
  {
   "cell_type": "code",
   "execution_count": null,
   "metadata": {},
   "outputs": [],
   "source": [
    "function evaluate(f::Fun{T}, x) where {T}\n",
    "    N = length(f.coeffs)\n",
    "    sum(f.coeffs[i+1] * hat(i, N, x) for i in 0:N-1)\n",
    "end"
   ]
  },
  {
   "cell_type": "code",
   "execution_count": null,
   "metadata": {},
   "outputs": [],
   "source": [
    "g11(x) = evaluate(g11coeffs, x)"
   ]
  },
  {
   "cell_type": "code",
   "execution_count": null,
   "metadata": {},
   "outputs": [],
   "source": [
    "plot(x=xs, y=[g11(x) for x in xs], Geom.line)"
   ]
  },
  {
   "cell_type": "code",
   "execution_count": null,
   "metadata": {},
   "outputs": [],
   "source": [
    "g21coeffs = sample(g, 21)\n",
    "g21(x) = evaluate(g21coeffs, x)\n",
    "plot(x=xs, y=[g21(x) for x in xs], Geom.line)"
   ]
  },
  {
   "cell_type": "markdown",
   "metadata": {},
   "source": [
    "## Quadrature"
   ]
  },
  {
   "cell_type": "code",
   "execution_count": null,
   "metadata": {},
   "outputs": [],
   "source": [
    "function quad(f::Fun{T}) where {T}\n",
    "    N = length(f.coeffs)\n",
    "    h = 1 / T(N-1)\n",
    "    # initialize sum to zero\n",
    "    s = T(0)\n",
    "    for i in 0:N-1\n",
    "        # boundary basis functions have half the area\n",
    "        if i==0 || i==N-1\n",
    "            w = T(0.5)\n",
    "        else\n",
    "            w = T(1)\n",
    "        end\n",
    "        # add up contributions from all basis functions\n",
    "        s += w * h * f.coeffs[i+1]\n",
    "    end\n",
    "    s\n",
    "end"
   ]
  },
  {
   "cell_type": "code",
   "execution_count": null,
   "metadata": {},
   "outputs": [],
   "source": [
    "quad(g11coeffs)"
   ]
  },
  {
   "cell_type": "code",
   "execution_count": null,
   "metadata": {},
   "outputs": [],
   "source": [
    "quad(g21coeffs)"
   ]
  },
  {
   "cell_type": "markdown",
   "metadata": {},
   "source": [
    "## L2 norm"
   ]
  },
  {
   "cell_type": "code",
   "execution_count": null,
   "metadata": {},
   "outputs": [],
   "source": [
    "function l2norm(f::Fun{T}) where {T}\n",
    "    coeffs_abs2 = [abs(c)^2 for c in f.coeffs]\n",
    "    sqrt(quad(Fun{T}(coeffs_abs2)))\n",
    "end"
   ]
  },
  {
   "cell_type": "code",
   "execution_count": null,
   "metadata": {},
   "outputs": [],
   "source": [
    "l2norm(g11coeffs)"
   ]
  },
  {
   "cell_type": "code",
   "execution_count": null,
   "metadata": {},
   "outputs": [],
   "source": [
    "l2norm(g21coeffs)"
   ]
  },
  {
   "cell_type": "markdown",
   "metadata": {},
   "source": [
    "## Comparing resolutions"
   ]
  },
  {
   "cell_type": "code",
   "execution_count": null,
   "metadata": {},
   "outputs": [],
   "source": [
    "g11_21_coeffs = sample(g11, 21)"
   ]
  },
  {
   "cell_type": "code",
   "execution_count": null,
   "metadata": {},
   "outputs": [],
   "source": [
    "plot(x=xs, y=[evaluate(g11_21_coeffs - g21coeffs, x) for x in xs], Geom.line)"
   ]
  },
  {
   "cell_type": "code",
   "execution_count": null,
   "metadata": {},
   "outputs": [],
   "source": [
    "l2norm(g11_21_coeffs - g21coeffs)"
   ]
  },
  {
   "cell_type": "code",
   "execution_count": null,
   "metadata": {},
   "outputs": [],
   "source": [
    "g41coeffs = sample(g, 41)\n",
    "g41(x) = evaluate(g41coeffs, x)\n",
    "plot(x=xs, y=[g41(x) for x in xs], Geom.line)"
   ]
  },
  {
   "cell_type": "code",
   "execution_count": null,
   "metadata": {},
   "outputs": [],
   "source": [
    "g11_41_coeffs = sample(g11, 41)\n",
    "g21_41_coeffs = sample(g21, 41)"
   ]
  },
  {
   "cell_type": "code",
   "execution_count": null,
   "metadata": {},
   "outputs": [],
   "source": [
    "l2norm(g11_21_coeffs - g21coeffs)"
   ]
  },
  {
   "cell_type": "code",
   "execution_count": null,
   "metadata": {},
   "outputs": [],
   "source": [
    "l2norm(g21_41_coeffs - g41coeffs)"
   ]
  },
  {
   "cell_type": "code",
   "execution_count": null,
   "metadata": {},
   "outputs": [],
   "source": [
    "g201coeffs = sample(g, 201)\n",
    "g201(x) = evaluate(g201coeffs, x)\n",
    "g401coeffs = sample(g, 401)\n",
    "g401(x) = evaluate(g401coeffs, x)\n",
    "g201_401_coeffs = sample(g201, 401)\n",
    "l2norm(g401coeffs - g201_401_coeffs)"
   ]
  },
  {
   "cell_type": "code",
   "execution_count": null,
   "metadata": {},
   "outputs": [],
   "source": [
    "g20001coeffs = sample(g, 20001)\n",
    "g20001(x) = evaluate(g20001coeffs, x)\n",
    "g40001coeffs = sample(g, 40001)\n",
    "g40001(x) = evaluate(g40001coeffs, x)\n",
    "g20001_40001_coeffs = sample(g20001, 40001)\n",
    "l2norm(g40001coeffs - g20001_40001_coeffs)"
   ]
  },
  {
   "cell_type": "code",
   "execution_count": null,
   "metadata": {},
   "outputs": [],
   "source": []
  }
 ],
 "metadata": {
  "kernelspec": {
   "display_name": "Julia 1.3.1",
   "language": "julia",
   "name": "julia-1.3"
  },
  "language_info": {
   "file_extension": ".jl",
   "mimetype": "application/julia",
   "name": "julia",
   "version": "1.3.1"
  }
 },
 "nbformat": 4,
 "nbformat_minor": 4
}
